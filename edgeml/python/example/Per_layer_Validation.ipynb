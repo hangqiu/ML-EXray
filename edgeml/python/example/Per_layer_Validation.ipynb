{
  "nbformat": 4,
  "nbformat_minor": 0,
  "metadata": {
    "colab": {
      "name": "Per-layer Validation.ipynb",
      "provenance": [],
      "collapsed_sections": []
    },
    "kernelspec": {
      "name": "python3",
      "display_name": "Python 3"
    },
    "language_info": {
      "name": "python"
    }
  },
  "cells": [
    {
      "cell_type": "markdown",
      "metadata": {
        "id": "HG-AKEN73kpz"
      },
      "source": [
        "Upload both the quantized and unquantized tflite model files."
      ]
    },
    {
      "cell_type": "code",
      "metadata": {
        "colab": {
          "base_uri": "https://localhost:8080/",
          "height": 289
        },
        "id": "Sh0srdIJ1hZE",
        "outputId": "6304aeb4-3344-43fe-e190-d36cef57d697"
      },
      "source": [
        "!pip3 install --upgrade -i https://test.pypi.org/simple/ MLEXray\n"
      ],
      "execution_count": 7,
      "outputs": [
        {
          "output_type": "stream",
          "name": "stdout",
          "text": [
            "Looking in indexes: https://test.pypi.org/simple/\n",
            "Requirement already satisfied: MLEXray in /usr/local/lib/python3.7/dist-packages (0.0.8)\n",
            "Collecting MLEXray\n",
            "  Downloading https://test-files.pythonhosted.org/packages/9d/36/871052204248e94f9b6e5498acf5a3e32110f28af3db974411bd7f2adea0/MLEXray-0.0.9-py3-none-any.whl (48 kB)\n",
            "\u001b[K     |████████████████████████████████| 48 kB 4.9 MB/s \n",
            "\u001b[?25hInstalling collected packages: MLEXray\n",
            "  Attempting uninstall: MLEXray\n",
            "    Found existing installation: MLEXray 0.0.8\n",
            "    Uninstalling MLEXray-0.0.8:\n",
            "      Successfully uninstalled MLEXray-0.0.8\n",
            "Successfully installed MLEXray-0.0.9\n"
          ]
        },
        {
          "output_type": "display_data",
          "data": {
            "application/vnd.colab-display-data+json": {
              "pip_warning": {
                "packages": [
                  "MLEXray"
                ]
              }
            }
          },
          "metadata": {}
        }
      ]
    },
    {
      "cell_type": "markdown",
      "metadata": {
        "id": "G5cLSZaP5loQ"
      },
      "source": [
        "Define a model runner class"
      ]
    },
    {
      "cell_type": "code",
      "metadata": {
        "id": "hrl2ArR84vqO"
      },
      "source": [
        "import os\n",
        "import tensorflow as tf\n",
        "import numpy as np\n",
        "from tqdm import tqdm\n",
        "\n",
        "from MLEXray.EdgeMLMonitor.EdgeMLMonitor import EdgeMLMonitor\n",
        "from MLEXray.Utils.tf_utils import KerasModel_preprocessing\n",
        "\n",
        "class Tflite_Image_Classification_Model_Runner():\n",
        "    interpreter = None\n",
        "    input_details = None\n",
        "    output_details = None\n",
        "    input_size = None\n",
        "    quantized = None\n",
        "\n",
        "    def __init__(self,\n",
        "                 model_name,\n",
        "                 quantized,\n",
        "                 tflite_model_dir=None,\n",
        "                 tflite_model=None,\n",
        "                 per_layer_logging=False,\n",
        "                 referenceOp=False\n",
        "                 ):\n",
        "        if tflite_model is None and tflite_model_dir is None:\n",
        "            raise ValueError(f\"Either model content or model path has to be provided\")\n",
        "        OpResolver = tf.lite.experimental.OpResolverType.AUTO\n",
        "        if referenceOp:\n",
        "            OpResolver = tf.lite.experimental.OpResolverType.BUILTIN_REF\n",
        "        self.interpreter = tf.lite.Interpreter(model_content=tflite_model,\n",
        "                                               model_path=tflite_model_dir,\n",
        "                                               experimental_preserve_all_tensors=True,\n",
        "                                               experimental_op_resolver_type=OpResolver)\n",
        "        self.interpreter.allocate_tensors()\n",
        "        self.input_details = self.interpreter.get_input_details()[0] # assume only 1 input, image\n",
        "        self.output_details = self.interpreter.get_output_details()[0] # assume only 1 output, predictions\n",
        "        self.input_size = self.input_details['shape'][-2]\n",
        "        self.quantized = quantized\n",
        "\n",
        "        self.model_name = model_name\n",
        "        self.mMonitor = EdgeMLMonitor()\n",
        "\n",
        "        if per_layer_logging:\n",
        "            self.mMonitor.set_per_layer_output_logging(True)\n",
        "        else:\n",
        "            self.mMonitor.set_per_layer_output_logging(False)\n",
        "\n",
        "\n",
        "    def invoke_model(self, input):\n",
        "        if self.quantized:\n",
        "            # Manually quantize the input from float to integer\n",
        "            scale, zero_point = self.input_details['quantization']\n",
        "            # print(f\"Input details: scale:{scale}, zero_point:{zero_point}\")\n",
        "            tflite_integer_input = input / scale + zero_point\n",
        "            tflite_integer_input = tf.cast(tflite_integer_input, self.input_details['dtype'])\n",
        "            # print(tflite_integer_input.shape)\n",
        "            tf_input = tflite_integer_input\n",
        "        else:\n",
        "            tf_input = input\n",
        "\n",
        "        self.interpreter.set_tensor(self.input_details['index'], tf_input)\n",
        "        self.interpreter.invoke()\n",
        "        tflite_output = self.interpreter.get_tensor(self.output_details['index'])\n",
        "        if self.quantized:\n",
        "            # Manually dequantize the output from integer to float\n",
        "            scale, zero_point = self.output_details['quantization']\n",
        "            # print(f\"Output details: scale:{scale}, zero_point:{zero_point}\")\n",
        "            tf_output = tflite_output.astype(np.float32)\n",
        "            tf_output = (tf_output - zero_point) * scale\n",
        "        else:\n",
        "            tf_output = tflite_output\n",
        "\n",
        "        result = dict()\n",
        "        result['input'] = tf_input.numpy()\n",
        "        result['predictions'] = tf_output\n",
        "\n",
        "        return result\n",
        "\n",
        "    def run_image_data_folder(self, data_path, logDir, enableLog=True):\n",
        "        \"\"\"\n",
        "\n",
        "        :param data_path:\n",
        "        :param logDir:\n",
        "        :param enableLog: default as True, set False to skip logging for performance eval\n",
        "        :return:\n",
        "        \"\"\"\n",
        "        print(f\"Running model on dataset: {data_path}\")\n",
        "\n",
        "        if enableLog: self.mMonitor.set_logDir(logDir)\n",
        "        images = os.listdir(data_path)\n",
        "        images = sorted(images)\n",
        "        idx = 0\n",
        "        # while idx < len(images):\n",
        "        result = []\n",
        "        imgmetas = []\n",
        "        for i in tqdm(range(len(images))):\n",
        "            image = images[i]\n",
        "            if 'png' not in image.lower() and 'jpg' not in image.lower() and 'jpeg' not in image.lower():\n",
        "                continue\n",
        "            res, imgmeta = self.run_one_image(data_path + image, enableLog)\n",
        "            idx += 1\n",
        "            result.append(res)\n",
        "            imgmetas.append(imgmeta)\n",
        "        return images, imgmetas, result\n",
        "\n",
        "    def run_one_image(self, image_path, enableLog=False):\n",
        "        if \".jpg\" in image_path.lower() or \".jpeg\" in image_path.lower():\n",
        "            raw_tf_image = tf.image.decode_jpeg(tf.io.read_file(image_path))\n",
        "        elif \".png\" in image_path.lower():\n",
        "            raw_tf_image = tf.image.decode_png(tf.io.read_file(image_path))\n",
        "        else:\n",
        "            raise ValueError(f\"{image_path} type not supported\")\n",
        "\n",
        "        raw_tf_image = np.array(raw_tf_image)\n",
        "        # add channel permutation bug\n",
        "        # raw_tf_image = cv2.cvtColor(raw_tf_image, cv2.COLOR_BGR2RGB)\n",
        "\n",
        "        raw_image = tf.expand_dims(raw_tf_image, axis=0)\n",
        "        image = tf.cast(raw_image, tf.float32)\n",
        "\n",
        "        image = tf.image.resize(image, [self.input_size, self.input_size], method=tf.image.ResizeMethod.AREA)\n",
        "        # image = tf.image.resize(image, [self.input_size, self.input_size], method=tf.image.ResizeMethod.BILINEAR)\n",
        "        image = KerasModel_preprocessing(image, model_name=self.model_name)\n",
        "        # print(image)\n",
        "        if enableLog: self.mMonitor.onInferenceStart()\n",
        "        result = self.invoke_model(image)\n",
        "        if enableLog: self.mMonitor.onInferenceStop(self.interpreter, result, raw_input=raw_image)\n",
        "        img_meta = dict()\n",
        "        img_meta[\"size\"] = raw_tf_image.shape\n",
        "        return result, img_meta"
      ],
      "execution_count": 2,
      "outputs": []
    },
    {
      "cell_type": "markdown",
      "metadata": {
        "id": "lsrWgl2946HB"
      },
      "source": [
        "Run the model on one image and get the logs"
      ]
    },
    {
      "cell_type": "code",
      "metadata": {
        "colab": {
          "base_uri": "https://localhost:8080/"
        },
        "id": "IhNpMewJ5oVg",
        "outputId": "9ecfd0c2-de38-4318-8398-bc38c0f8ac56"
      },
      "source": [
        "model_name = \"MobileNetV2\" # must be exactly MobileNetV2 to use preprocessing functions from internal library\n",
        "per_layer_logging = True\n",
        "referenceOp = True\n",
        "data_path = \"/content/Image/\"\n",
        "# run unquant model\n",
        "tflite_path_unquant = \"/content/MobileNetV2_imagenet_224.tflite\" # make sure to upload to the tflite here\n",
        "log_path_unquant = \"/content/1_cloud_tflite/\"\n",
        "runner = Tflite_Image_Classification_Model_Runner(model_name=model_name,\n",
        "                                                  quantized=False,\n",
        "                                                  tflite_model_dir=tflite_path_unquant,\n",
        "                                                  per_layer_logging=per_layer_logging,\n",
        "                                                  referenceOp=referenceOp)\n",
        "imgs, meta, res = runner.run_image_data_folder(data_path, log_path_unquant, enableLog=True)\n",
        "\n",
        "# run quant model\n",
        "tflite_path_quant = \"/content/MobileNetV2_imagenet_quant_224.tflite\" # make sure to upload to the tflite here   \n",
        "log_path_quant = \"/content/1_cloud_tflite_quant/\"\n",
        "runner = Tflite_Image_Classification_Model_Runner(model_name=model_name,\n",
        "                                                  quantized=True,\n",
        "                                                  tflite_model_dir=tflite_path_quant,\n",
        "                                                  per_layer_logging=per_layer_logging,\n",
        "                                                  referenceOp=referenceOp)\n",
        "imgs, meta, res = runner.run_image_data_folder(data_path, log_path_quant, enableLog=True)"
      ],
      "execution_count": 3,
      "outputs": [
        {
          "output_type": "stream",
          "name": "stdout",
          "text": [
            "Running model on dataset: /content/Image/\n"
          ]
        },
        {
          "output_type": "stream",
          "name": "stderr",
          "text": [
            "100%|██████████| 2/2 [02:05<00:00, 62.86s/it]\n"
          ]
        },
        {
          "output_type": "stream",
          "name": "stdout",
          "text": [
            "Running model on dataset: /content/Image/\n"
          ]
        },
        {
          "output_type": "stream",
          "name": "stderr",
          "text": [
            "100%|██████████| 2/2 [00:38<00:00, 19.12s/it]\n"
          ]
        }
      ]
    },
    {
      "cell_type": "markdown",
      "metadata": {
        "id": "EEIdJlPzGal1"
      },
      "source": [
        "Compare per-layer output of the two logs"
      ]
    },
    {
      "cell_type": "code",
      "metadata": {
        "colab": {
          "base_uri": "https://localhost:8080/"
        },
        "id": "tIiGxVrLGGeH",
        "outputId": "99f39125-f296-49ec-8bc6-29c087348407"
      },
      "source": [
        "from MLEXray.ML_Diff.MLLogReader import MLLogReader\n",
        "from MLEXray.ML_Diff.MLDiffer import MLDiffer\n",
        "\n",
        "output_dir = \"/content/quantRef_vs_unquantRef/\"\n",
        "\n",
        "\n",
        "mReader = MLLogReader(per_layer_output=True, model_path=tflite_path_quant)\n",
        "\n",
        "pd_tflite_quant = mReader.read_log(log_path_quant)\n",
        "pd_tflite_unquant = mReader.read_log(log_path_unquant)\n",
        "\n",
        "print(pd_tflite_quant)\n",
        "print(pd_tflite_unquant)\n",
        "\n",
        "name_list = [\"Quant_RefOp\", \"Unquant_RefOp\"]\n",
        "trace_list = [pd_tflite_quant, pd_tflite_unquant]\n",
        "\n",
        "tflite_model_list = [tflite_path_quant, tflite_path_unquant]\n",
        "\n",
        "mDiffer = MLDiffer()\n",
        "mDiffer.diff(trace_list, name_list, scalar_key_list=None,\n",
        "             vector_key_list=mReader.vector_key_list, tflite_model_list=tflite_model_list, output_dir=output_dir, per_layer_fig=False)"
      ],
      "execution_count": 4,
      "outputs": [
        {
          "output_type": "stream",
          "name": "stdout",
          "text": [
            "                                             input_1  ...                                           Identity\n",
            "0  [175.0, 186.0, 187.0, 178.0, 189.0, 190.0, 180...  ...  [0.0, 0.0, 0.0, 0.0, 0.0, 0.0, 0.0, 0.0, 0.0, ...\n",
            "\n",
            "[1 rows x 180 columns]\n",
            "                                             input_1  ...                                           Identity\n",
            "0  [0.370461106300354, 0.4598938226699829, 0.4692...  ...  [5.81094209337607e-05, 8.608310599811375e-05, ...\n",
            "\n",
            "[1 rows x 178 columns]\n"
          ]
        }
      ]
    },
    {
      "cell_type": "markdown",
      "metadata": {
        "id": "kK_C3GXBTDar"
      },
      "source": [
        "Plot normalized per-layer root-mean-square-error"
      ]
    },
    {
      "cell_type": "code",
      "metadata": {
        "colab": {
          "base_uri": "https://localhost:8080/",
          "height": 499
        },
        "id": "AbemZO44TVBV",
        "outputId": "a6e82e53-08f3-47d4-81ed-c7c62c7fb050"
      },
      "source": [
        "import pandas as pd\n",
        "import matplotlib.pyplot as plt\n",
        "import seaborn as sns\n",
        "\n",
        "from MLEXray.plots.per_layer_plots import get_norm_rmse_from_csv\n",
        "\n",
        "per_layer_compare_file = \"/content/quantRef_vs_unquantRef/0_0_debug_report.csv\"\n",
        "output_start_layer_index = 114 # the starting index of layer output tensor in tflite, can inspect from netron.app\n",
        "pd_data = get_norm_rmse_from_csv(fp=per_layer_compare_file,\n",
        "                                  output_row_start=output_start_layer_index)\n",
        "\n",
        "plt.figure()\n",
        "# print(pd_data)\n",
        "sns.lineplot(data=pd_data, markers=True)\n",
        "plt.xlabel(\"Layer Index\")\n",
        "plt.ylabel(\"Normalized rMSE\")\n",
        "plt.legend(\"MobileNetv3 Small\")\n",
        "plt.title(\"Mobile Quant Ref vs. Mobile\")\n",
        "plt.show()\n"
      ],
      "execution_count": 3,
      "outputs": [
        {
          "output_type": "stream",
          "name": "stdout",
          "text": [
            "114     6.000000\n",
            "115    35.566396\n",
            "116     6.000000\n",
            "117     6.000000\n",
            "118    55.683355\n",
            "         ...    \n",
            "172     6.000000\n",
            "173    18.461038\n",
            "174     6.000000\n",
            "175     4.808304\n",
            "176    12.398122\n",
            "Length: 63, dtype: float64\n"
          ]
        },
        {
          "output_type": "display_data",
          "data": {
            "image/png": "[encoded data removed]",
            "text/plain": [
              "<Figure size 432x288 with 1 Axes>"
            ]
          },
          "metadata": {
            "needs_background": "light"
          }
        }
      ]
    }
  ]
}